{
 "cells": [
  {
   "cell_type": "code",
   "execution_count": null,
   "id": "feee3a4f-5f14-4504-a1ea-674b5657a0ad",
   "metadata": {},
   "outputs": [],
   "source": [
    "import pandas as pd\n",
    "from sklearn.model_selection import train_test_split\n",
    "from sklearn.preprocessing import StandardScaler\n",
    "from sklearn.linear_model import LogisticRegression\n",
    "from sklearn.tree import DecisionTreeClassifier\n",
    "from sklearn.ensemble import RandomForestClassifier\n",
    "from sklearn.metrics import classification_report, confusion_matrix, accuracy_score\n",
    "import warnings\n",
    "warnings.filterwarnings(\"ignore\")"
   ]
  },
  {
   "cell_type": "code",
   "execution_count": null,
   "id": "fa042fc0-a23a-43f0-bdb6-94b36d382e69",
   "metadata": {},
   "outputs": [],
   "source": [
    "train = pd.read_csv(\"C:/Users/naure/OneDrive/Desktop/codsoft/fraud/fraudTrain.csv\")\n",
    "test = pd.read_csv(\"C:/Users/naure/OneDrive/Desktop/codsoft/fraud/fraudTest.csv\")\n"
   ]
  },
  {
   "cell_type": "code",
   "execution_count": null,
   "id": "6723763d-da9c-4bdc-98de-35d8cf595723",
   "metadata": {},
   "outputs": [],
   "source": [
    "print(\"Train columns:\", train.columns.tolist())\n",
    "print(\"Test columns:\", test.columns.tolist())"
   ]
  },
  {
   "cell_type": "code",
   "execution_count": 5,
   "id": "1a97086b-2945-482e-a45c-041bac0968b5",
   "metadata": {},
   "outputs": [
    {
     "name": "stdout",
     "output_type": "stream",
     "text": [
      "Missing values in train: 0\n",
      "Missing values in test: 0\n"
     ]
    }
   ],
   "source": [
    "# Check for missing values\n",
    "print(\"Missing values in train:\", train.isnull().sum().sum())\n",
    "print(\"Missing values in test:\", test.isnull().sum().sum())"
   ]
  },
  {
   "cell_type": "code",
   "execution_count": 6,
   "id": "ba5165b9-2853-4bd4-8fb5-f4231ca1c01d",
   "metadata": {},
   "outputs": [],
   "source": [
    "\n",
    "# Strip column names (clean any spaces)\n",
    "train.columns = train.columns.str.strip()\n",
    "test.columns = test.columns.str.strip()"
   ]
  },
  {
   "cell_type": "code",
   "execution_count": 7,
   "id": "5ee7766a-bd8d-4fe6-ba4c-80ce6a847b18",
   "metadata": {},
   "outputs": [],
   "source": [
    "\n",
    "# Drop unnecessary columns\n",
    "drop_cols = ['Unnamed: 0', 'trans_date_trans_time', 'first', 'last', 'street', 'job', 'dob', 'trans_num']\n",
    "train.drop(columns=drop_cols, inplace=True)\n",
    "test.drop(columns=drop_cols, inplace=True)"
   ]
  },
  {
   "cell_type": "code",
   "execution_count": 8,
   "id": "a58422f1-b3d2-43db-b2ff-24a7a29ecbb8",
   "metadata": {},
   "outputs": [],
   "source": [
    "# Separate features and target\n",
    "target_col = 'is_fraud'\n",
    "X_train = train.drop(target_col, axis=1)\n",
    "y_train = train[target_col]\n",
    "X_test = test.drop(target_col, axis=1)\n",
    "y_test = test[target_col]"
   ]
  },
  {
   "cell_type": "code",
   "execution_count": 9,
   "id": "4d8ed027-30f3-456b-b02c-5619b5e96611",
   "metadata": {},
   "outputs": [],
   "source": [
    "# Combine train and test to encode categorical columns consistently\n",
    "combined = pd.concat([X_train, X_test])\n",
    "categorical_cols = combined.select_dtypes(include=['object']).columns"
   ]
  },
  {
   "cell_type": "code",
   "execution_count": 10,
   "id": "f88a0567-a233-45d7-ad65-b6d009927813",
   "metadata": {},
   "outputs": [],
   "source": [
    "# One-hot encode categorical columns\n",
    "combined_encoded = pd.get_dummies(combined, columns=categorical_cols, drop_first=True)"
   ]
  },
  {
   "cell_type": "code",
   "execution_count": 11,
   "id": "87c99242-bc7a-4633-8c5a-45b56ce437e9",
   "metadata": {},
   "outputs": [],
   "source": [
    "# Split encoded combined back to train and test\n",
    "X_train_encoded = combined_encoded.iloc[:len(X_train), :]\n",
    "X_test_encoded = combined_encoded.iloc[len(X_train):, :]"
   ]
  },
  {
   "cell_type": "code",
   "execution_count": 12,
   "id": "e4bdb5bd-5f6c-49d1-aa77-66458b5fab69",
   "metadata": {},
   "outputs": [],
   "source": [
    "# Scale numerical features\n",
    "scaler = StandardScaler()\n",
    "X_train_scaled = scaler.fit_transform(X_train_encoded)\n",
    "X_test_scaled = scaler.transform(X_test_encoded)"
   ]
  },
  {
   "cell_type": "code",
   "execution_count": 13,
   "id": "52a05583-4b7d-4347-a85c-d039662c6b2a",
   "metadata": {},
   "outputs": [],
   "source": [
    "# Train and compare models\n",
    "models = {\n",
    "    \"Logistic Regression\": LogisticRegression(),\n",
    "    \"Decision Tree\": DecisionTreeClassifier(random_state=42),\n",
    "    \"Random Forest\": RandomForestClassifier(n_estimators=100, random_state=42)\n",
    "}\n",
    "best_model = None\n",
    "best_accuracy = 0"
   ]
  },
  {
   "cell_type": "code",
   "execution_count": null,
   "id": "4625fa8a-0c12-435f-8afc-c8df088c2eb7",
   "metadata": {},
   "outputs": [],
   "source": [
    "for name, model in models.items():\n",
    "    model.fit(X_train_scaled, y_train)\n",
    "    preds = model.predict(X_test_scaled)\n",
    "    \n",
    "    acc = accuracy_score(y_test, preds)\n",
    "    print(f\"\\n{name} Accuracy: {acc:.4f}\")\n",
    "    print(\"Confusion Matrix:\\n\", confusion_matrix(y_test, preds))\n",
    "    print(\"Classification Report:\\n\", classification_report(y_test, preds))\n",
    "   "
   ]
  },
  {
   "cell_type": "code",
   "execution_count": null,
   "id": "e565f697-2697-4555-afc3-a9b048da2f55",
   "metadata": {},
   "outputs": [],
   "source": [
    "if acc > best_accuracy:\n",
    "        best_accuracy = acc\n",
    "        best_model = name\n",
    "\n",
    "print(f\"\\n✅ Best Model: {best_model} with Accuracy: {best_accuracy:.4f}\")"
   ]
  },
  {
   "cell_type": "code",
   "execution_count": null,
   "id": "73f2f891-7547-4d1b-912a-6b4fe23f0584",
   "metadata": {},
   "outputs": [],
   "source": [
    "\n",
    "def plot_confusion_matrix(y_true, y_pred, model_name):\n",
    "    cm = confusion_matrix(y_true, y_pred)\n",
    "    \n",
    "    plt.figure(figsize=(6, 4))\n",
    "    sns.heatmap(cm, annot=True, fmt='d', cmap='Reds',\n",
    "                xticklabels=['Legit (0)', 'Fraud (1)'],\n",
    "                yticklabels=['Legit (0)', 'Fraud (1)'])\n",
    "    \n",
    "    plt.xlabel('Predicted Label')\n",
    "    plt.ylabel('True Label')\n",
    "    plt.title(f'Confusion Matrix - {model_name}')\n",
    "    plt.show()\n",
    "plot_confusion_matrix(y_test, y_pred, model_name=name)"
   ]
  }
 ],
 "metadata": {
  "kernelspec": {
   "display_name": "Python 3 (ipykernel)",
   "language": "python",
   "name": "python3"
  },
  "language_info": {
   "codemirror_mode": {
    "name": "ipython",
    "version": 3
   },
   "file_extension": ".py",
   "mimetype": "text/x-python",
   "name": "python",
   "nbconvert_exporter": "python",
   "pygments_lexer": "ipython3",
   "version": "3.12.6"
  }
 },
 "nbformat": 4,
 "nbformat_minor": 5
}
